{
 "cells": [
  {
   "cell_type": "markdown",
   "metadata": {},
   "source": [
    "# Example of using the Kernel Perceptron for nonlinear classification\n",
    "\n",
    "- [Importable source code (most up-to-date version)](https://github.com/sylvaticus/BetaML.jl/blob/master/src/Perceptron.jl) - [Julia Package](https://github.com/sylvaticus/BetaML.jl)\n",
    "- [Demonstrative static notebook](https://github.com/sylvaticus/BetaML.jl/blob/master/notebooks/Perceptron.ipynb)\n",
    "- [Demonstrative live notebook](https://mybinder.org/v2/gh/sylvaticus/BetaML.jl/master?filepath=notebooks%2FPerceptron.ipynb) (temporary personal online computational environment on myBinder) - it can takes minutes to start with!\n",
    "- Theory based on [MITx 6.86x - Machine Learning with Python: from Linear Models to Deep Learning](https://github.com/sylvaticus/MITx_6.86x) ([Unit 1](https://github.com/sylvaticus/MITx_6.86x/blob/master/Unit%2001%20-%20Linear%20Classifiers%20and%20Generalizations/Unit%2001%20-%20Linear%20Classifiers%20and%20Generalizations.md))\n",
    "- New to Julia? [A concise Julia tutorial](https://github.com/sylvaticus/juliatutorial) - [Julia Quick Syntax Reference book](https://julia-book.com)"
   ]
  },
  {
   "cell_type": "code",
   "execution_count": 1,
   "metadata": {},
   "outputs": [],
   "source": [
    "# Load Modules\n",
    "using Pkg\n",
    "function addIfNeeded(pkgs...)\n",
    "    isinstalled(pkg::String) = any(x -> x.name == pkg && x.is_direct_dep, values(Pkg.dependencies()))\n",
    "    [Pkg.add(pkg) for pkg in pkgs  if !isinstalled(pkg)]\n",
    "end\n",
    "\n",
    "addIfNeeded(\"Statistics\",\"BetaML\")\n",
    "using BetaML.Perceptron, Statistics, Random\n",
    "Random.seed!(123);"
   ]
  },
  {
   "cell_type": "code",
   "execution_count": 2,
   "metadata": {},
   "outputs": [
    {
     "data": {
      "text/plain": [
       "50-element Array{Int64,1}:\n",
       " -1\n",
       " -1\n",
       "  1\n",
       "  1\n",
       "  1\n",
       "  1\n",
       " -1\n",
       "  1\n",
       " -1\n",
       "  1\n",
       "  1\n",
       " -1\n",
       "  1\n",
       "  ⋮\n",
       "  1\n",
       " -1\n",
       " -1\n",
       " -1\n",
       "  1\n",
       "  1\n",
       " -1\n",
       "  1\n",
       " -1\n",
       " -1\n",
       " -1\n",
       " -1"
      ]
     },
     "execution_count": 2,
     "metadata": {},
     "output_type": "execute_result"
    }
   ],
   "source": [
    "xtrain = rand(300,3)\n",
    "ytt    = [(0.5*x[1]+0.2*x[2]^2+0.3*x[3]+1) for (i,x) in enumerate(eachrow(xtrain))]\n",
    "ytrain = [i > median(ytt) ? 1 : -1 for i in ytt]\n",
    "xtest  = rand(50,3)\n",
    "ytt2    = [(0.5*x[1]+0.2*x[2]^2+0.3*x[3]+1) for (i,x) in enumerate(eachrow(xtest))]\n",
    "ytest = [i > median(ytt) ? 1 : -1 for i in ytt2]\n"
   ]
  },
  {
   "cell_type": "code",
   "execution_count": 3,
   "metadata": {},
   "outputs": [
    {
     "name": "stdout",
     "output_type": "stream",
     "text": [
      "search: \u001b[0m\u001b[1mk\u001b[22m\u001b[0m\u001b[1me\u001b[22m\u001b[0m\u001b[1mr\u001b[22m\u001b[0m\u001b[1mn\u001b[22m\u001b[0m\u001b[1me\u001b[22m\u001b[0m\u001b[1ml\u001b[22m\u001b[0m\u001b[1mP\u001b[22m\u001b[0m\u001b[1me\u001b[22m\u001b[0m\u001b[1mr\u001b[22m\u001b[0m\u001b[1mc\u001b[22m\u001b[0m\u001b[1me\u001b[22m\u001b[0m\u001b[1mp\u001b[22m\u001b[0m\u001b[1mt\u001b[22m\u001b[0m\u001b[1mr\u001b[22m\u001b[0m\u001b[1mo\u001b[22m\u001b[0m\u001b[1mn\u001b[22m\n",
      "\n"
     ]
    }
   ],
   "source": [
    "?kernelPerceptron"
   ]
  },
  {
   "cell_type": "code",
   "execution_count": 4,
   "metadata": {},
   "outputs": [
    {
     "name": "stdout",
     "output_type": "stream",
     "text": [
      "Running function BetaML.Perceptron.#kernelPerceptron#2 at /home/lobianco/.julia/dev/BetaML/src/Perceptron.jl:154\n",
      "Type `]dev BetaML` to modify the source code (this would change its location on disk)\n",
      "***\n",
      "*** Training kernel perceptron for maximum 1000 iterations. Random shuffle: true\n",
      "Avg. error after iteration 1 : 0.12666666666666668\n"
     ]
    },
    {
     "name": "stderr",
     "output_type": "stream",
     "text": [
      "\u001b[32mTraining Kernel Perceptron...  5%|█▏                    |  ETA: 0:02:07\u001b[39m"
     ]
    },
    {
     "name": "stdout",
     "output_type": "stream",
     "text": [
      "Avg. error after iteration 50 : 0.03333333333333333\n"
     ]
    },
    {
     "name": "stderr",
     "output_type": "stream",
     "text": [
      "\r",
      "\u001b[32mTraining Kernel Perceptron...100%|██████████████████████| Time: 0:00:07\u001b[39m\n"
     ]
    },
    {
     "name": "stdout",
     "output_type": "stream",
     "text": [
      "*** Avg. error after epoch 56 : 0.0 (all elements of the set has been correctly classified\n"
     ]
    },
    {
     "data": {
      "text/plain": [
       "(x = [0.031830967983953684 0.3059693626219031 0.42941441278892944; 0.32272199861993855 0.8435595294013642 0.19217311620437472; … ; 0.6391166633765342 0.48648649174123015 0.6754896461465152; 0.49991620670489656 0.5254395866764174 0.0984211174680194], y = [-1, -1, -1, -1, 1, -1, -1, -1, 1, -1  …  -1, -1, 1, -1, 1, -1, -1, 1, 1, -1], α = [0.0, 0.0, 11.0, 0.0, 0.0, 0.0, 1.0, 0.0, 0.0, 0.0  …  0.0, 0.0, 4.0, 0.0, 0.0, 0.0, 23.0, 0.0, 0.0, 0.0], errors = 0, besterrors = 0, iterations = 56, separated = true)"
      ]
     },
     "execution_count": 4,
     "metadata": {},
     "output_type": "execute_result"
    }
   ],
   "source": [
    "out   = kernelPerceptron(xtrain, ytrain, K=radialKernel,rShuffle=true,nMsgs=20)"
   ]
  },
  {
   "cell_type": "code",
   "execution_count": 5,
   "metadata": {},
   "outputs": [
    {
     "data": {
      "text/plain": [
       "50-element Array{Int64,1}:\n",
       " -1\n",
       " -1\n",
       "  1\n",
       "  1\n",
       "  1\n",
       "  1\n",
       " -1\n",
       "  1\n",
       " -1\n",
       "  1\n",
       "  1\n",
       " -1\n",
       "  1\n",
       "  ⋮\n",
       "  1\n",
       " -1\n",
       " -1\n",
       " -1\n",
       "  1\n",
       "  1\n",
       " -1\n",
       "  1\n",
       " -1\n",
       " -1\n",
       " -1\n",
       " -1"
      ]
     },
     "execution_count": 5,
     "metadata": {},
     "output_type": "execute_result"
    }
   ],
   "source": [
    "ŷtest = Perceptron.predict(xtest,out.x,out.y,out.α, K=radialKernel)"
   ]
  },
  {
   "cell_type": "code",
   "execution_count": 6,
   "metadata": {},
   "outputs": [
    {
     "data": {
      "text/plain": [
       "0.02"
      ]
     },
     "execution_count": 6,
     "metadata": {},
     "output_type": "execute_result"
    }
   ],
   "source": [
    "ϵ = error(ytest, ŷtest)"
   ]
  },
  {
   "cell_type": "code",
   "execution_count": null,
   "metadata": {},
   "outputs": [],
   "source": []
  }
 ],
 "metadata": {
  "kernelspec": {
   "display_name": "Julia 1.4.1",
   "language": "julia",
   "name": "julia-1.4"
  },
  "language_info": {
   "file_extension": ".jl",
   "mimetype": "application/julia",
   "name": "julia",
   "version": "1.4.1"
  }
 },
 "nbformat": 4,
 "nbformat_minor": 4
}
